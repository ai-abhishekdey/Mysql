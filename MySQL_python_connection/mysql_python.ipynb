{
 "cells": [
  {
   "cell_type": "code",
   "execution_count": 1,
   "id": "4affef89",
   "metadata": {},
   "outputs": [],
   "source": [
    "import mysql.connector\n",
    "import pandas as pd"
   ]
  },
  {
   "cell_type": "markdown",
   "id": "b257b963",
   "metadata": {},
   "source": [
    "### Establishing mysql database connection"
   ]
  },
  {
   "cell_type": "code",
   "execution_count": 2,
   "id": "2fca9014",
   "metadata": {},
   "outputs": [],
   "source": [
    "connection=mysql.connector.connect(\n",
    "    host='localhost',\n",
    "    user='yourusername',\n",
    "    password='*yourpassword',\n",
    "    database='calculator_database')"
   ]
  },
  {
   "cell_type": "markdown",
   "id": "b3a072e5",
   "metadata": {},
   "source": [
    "### Creating a cursor object using the cursor() method"
   ]
  },
  {
   "cell_type": "code",
   "execution_count": 3,
   "id": "058e3c51",
   "metadata": {},
   "outputs": [],
   "source": [
    "cursor=connection.cursor()"
   ]
  },
  {
   "cell_type": "markdown",
   "id": "9265dc68",
   "metadata": {},
   "source": [
    "### Show tables"
   ]
  },
  {
   "cell_type": "code",
   "execution_count": 4,
   "id": "3df7038f",
   "metadata": {},
   "outputs": [],
   "source": [
    "mysql_query = \"show tables\""
   ]
  },
  {
   "cell_type": "code",
   "execution_count": 5,
   "id": "b26a513e",
   "metadata": {},
   "outputs": [],
   "source": [
    "cursor.execute(mysql_query)"
   ]
  },
  {
   "cell_type": "code",
   "execution_count": 6,
   "id": "2fba8277",
   "metadata": {},
   "outputs": [],
   "source": [
    "tables_data = cursor.fetchall()"
   ]
  },
  {
   "cell_type": "code",
   "execution_count": 7,
   "id": "683628d3",
   "metadata": {},
   "outputs": [
    {
     "name": "stdout",
     "output_type": "stream",
     "text": [
      "[('calculator_table',)]\n"
     ]
    }
   ],
   "source": [
    "print(tables_data)"
   ]
  },
  {
   "cell_type": "markdown",
   "id": "5fc65571",
   "metadata": {},
   "source": [
    "### Insert a row into the table"
   ]
  },
  {
   "cell_type": "code",
   "execution_count": 8,
   "id": "f23afc3c",
   "metadata": {},
   "outputs": [],
   "source": [
    "mysql_query = \"insert into calculator_table(sl_no,operation,num1,num2,result) values(11,'division',250,10,25)\""
   ]
  },
  {
   "cell_type": "code",
   "execution_count": 9,
   "id": "bbdb3d0f",
   "metadata": {},
   "outputs": [],
   "source": [
    "cursor.execute(mysql_query)"
   ]
  },
  {
   "cell_type": "code",
   "execution_count": 10,
   "id": "02096e14",
   "metadata": {},
   "outputs": [],
   "source": [
    "connection.commit()"
   ]
  },
  {
   "cell_type": "markdown",
   "id": "e3f805ee",
   "metadata": {},
   "source": [
    "### Data retrival from table"
   ]
  },
  {
   "cell_type": "code",
   "execution_count": 11,
   "id": "b09faa08",
   "metadata": {},
   "outputs": [],
   "source": [
    "mysql_query = \"select * from calculator_table\""
   ]
  },
  {
   "cell_type": "code",
   "execution_count": 12,
   "id": "8a79a740",
   "metadata": {},
   "outputs": [],
   "source": [
    "cursor.execute(mysql_query)"
   ]
  },
  {
   "cell_type": "code",
   "execution_count": 13,
   "id": "d7f750ba",
   "metadata": {},
   "outputs": [],
   "source": [
    "data_fetched = cursor.fetchall()"
   ]
  },
  {
   "cell_type": "code",
   "execution_count": 14,
   "id": "9b8776ac",
   "metadata": {},
   "outputs": [
    {
     "name": "stdout",
     "output_type": "stream",
     "text": [
      "[(1, 'addition', 10.0, 20.0, 30.0), (2, 'division', 40.0, 5.0, 8.0), (3, 'multiplication', 25.0, 4.0, 100.0), (4, 'substraction', 38.0, 10.0, 28.0), (5, 'addition', 27.0, 20.0, 47.0), (6, 'division', 70.0, 10.0, 7.0), (7, 'substraction', 520.0, 300.0, 220.0), (8, 'addition', 45.0, 10.0, 55.0), (9, 'addition', 55.0, 10.0, 65.0), (10, 'multiplication', 15.0, 10.0, 150.0), (11, 'division', 250.0, 10.0, 25.0)]\n"
     ]
    }
   ],
   "source": [
    "print(data_fetched)"
   ]
  },
  {
   "cell_type": "markdown",
   "id": "92ce28e0",
   "metadata": {},
   "source": [
    "### Conditional data retrieval from table"
   ]
  },
  {
   "cell_type": "code",
   "execution_count": 15,
   "id": "187f1cef",
   "metadata": {},
   "outputs": [],
   "source": [
    "mysql_query =\"select * from calculator_table where operation='addition'\""
   ]
  },
  {
   "cell_type": "code",
   "execution_count": 16,
   "id": "8af52d6d",
   "metadata": {},
   "outputs": [],
   "source": [
    "cursor.execute(mysql_query)"
   ]
  },
  {
   "cell_type": "code",
   "execution_count": 17,
   "id": "bac0bcc2",
   "metadata": {},
   "outputs": [],
   "source": [
    "conditional_data = cursor.fetchall()"
   ]
  },
  {
   "cell_type": "code",
   "execution_count": 18,
   "id": "4b016bf6",
   "metadata": {},
   "outputs": [
    {
     "name": "stdout",
     "output_type": "stream",
     "text": [
      "[(1, 'addition', 10.0, 20.0, 30.0), (5, 'addition', 27.0, 20.0, 47.0), (8, 'addition', 45.0, 10.0, 55.0), (9, 'addition', 55.0, 10.0, 65.0)]\n"
     ]
    }
   ],
   "source": [
    "print(conditional_data)"
   ]
  },
  {
   "cell_type": "markdown",
   "id": "461ef606",
   "metadata": {},
   "source": [
    "### Importing data into pandas dataframe from mysql table"
   ]
  },
  {
   "cell_type": "code",
   "execution_count": 19,
   "id": "b5e42efe",
   "metadata": {},
   "outputs": [],
   "source": [
    "mysql_query = \"select * from calculator_table\""
   ]
  },
  {
   "cell_type": "code",
   "execution_count": 20,
   "id": "35bc9b17",
   "metadata": {},
   "outputs": [
    {
     "name": "stderr",
     "output_type": "stream",
     "text": [
      "/tmp/ipykernel_11991/1896231785.py:1: UserWarning: pandas only supports SQLAlchemy connectable (engine/connection) or database string URI or sqlite3 DBAPI2 connection. Other DBAPI2 objects are not tested. Please consider using SQLAlchemy.\n",
      "  dataframe = pd.read_sql(mysql_query,connection)\n"
     ]
    }
   ],
   "source": [
    "dataframe = pd.read_sql(mysql_query,connection)"
   ]
  },
  {
   "cell_type": "code",
   "execution_count": 21,
   "id": "eba8513e",
   "metadata": {},
   "outputs": [
    {
     "data": {
      "text/html": [
       "<div>\n",
       "<style scoped>\n",
       "    .dataframe tbody tr th:only-of-type {\n",
       "        vertical-align: middle;\n",
       "    }\n",
       "\n",
       "    .dataframe tbody tr th {\n",
       "        vertical-align: top;\n",
       "    }\n",
       "\n",
       "    .dataframe thead th {\n",
       "        text-align: right;\n",
       "    }\n",
       "</style>\n",
       "<table border=\"1\" class=\"dataframe\">\n",
       "  <thead>\n",
       "    <tr style=\"text-align: right;\">\n",
       "      <th></th>\n",
       "      <th>sl_no</th>\n",
       "      <th>operation</th>\n",
       "      <th>num1</th>\n",
       "      <th>num2</th>\n",
       "      <th>result</th>\n",
       "    </tr>\n",
       "  </thead>\n",
       "  <tbody>\n",
       "    <tr>\n",
       "      <th>0</th>\n",
       "      <td>1</td>\n",
       "      <td>addition</td>\n",
       "      <td>10.0</td>\n",
       "      <td>20.0</td>\n",
       "      <td>30.0</td>\n",
       "    </tr>\n",
       "    <tr>\n",
       "      <th>1</th>\n",
       "      <td>2</td>\n",
       "      <td>division</td>\n",
       "      <td>40.0</td>\n",
       "      <td>5.0</td>\n",
       "      <td>8.0</td>\n",
       "    </tr>\n",
       "    <tr>\n",
       "      <th>2</th>\n",
       "      <td>3</td>\n",
       "      <td>multiplication</td>\n",
       "      <td>25.0</td>\n",
       "      <td>4.0</td>\n",
       "      <td>100.0</td>\n",
       "    </tr>\n",
       "    <tr>\n",
       "      <th>3</th>\n",
       "      <td>4</td>\n",
       "      <td>substraction</td>\n",
       "      <td>38.0</td>\n",
       "      <td>10.0</td>\n",
       "      <td>28.0</td>\n",
       "    </tr>\n",
       "    <tr>\n",
       "      <th>4</th>\n",
       "      <td>5</td>\n",
       "      <td>addition</td>\n",
       "      <td>27.0</td>\n",
       "      <td>20.0</td>\n",
       "      <td>47.0</td>\n",
       "    </tr>\n",
       "  </tbody>\n",
       "</table>\n",
       "</div>"
      ],
      "text/plain": [
       "   sl_no       operation  num1  num2  result\n",
       "0      1        addition  10.0  20.0    30.0\n",
       "1      2        division  40.0   5.0     8.0\n",
       "2      3  multiplication  25.0   4.0   100.0\n",
       "3      4    substraction  38.0  10.0    28.0\n",
       "4      5        addition  27.0  20.0    47.0"
      ]
     },
     "execution_count": 21,
     "metadata": {},
     "output_type": "execute_result"
    }
   ],
   "source": [
    "dataframe.head()"
   ]
  },
  {
   "cell_type": "markdown",
   "id": "b2bf05ae",
   "metadata": {},
   "source": [
    "### Closing the connection"
   ]
  },
  {
   "cell_type": "code",
   "execution_count": 22,
   "id": "9736dad8",
   "metadata": {},
   "outputs": [],
   "source": [
    "connection.close()"
   ]
  },
  {
   "cell_type": "code",
   "execution_count": null,
   "id": "4e267c13",
   "metadata": {},
   "outputs": [],
   "source": []
  }
 ],
 "metadata": {
  "kernelspec": {
   "display_name": "Python 3 (ipykernel)",
   "language": "python",
   "name": "python3"
  },
  "language_info": {
   "codemirror_mode": {
    "name": "ipython",
    "version": 3
   },
   "file_extension": ".py",
   "mimetype": "text/x-python",
   "name": "python",
   "nbconvert_exporter": "python",
   "pygments_lexer": "ipython3",
   "version": "3.10.6"
  }
 },
 "nbformat": 4,
 "nbformat_minor": 5
}
