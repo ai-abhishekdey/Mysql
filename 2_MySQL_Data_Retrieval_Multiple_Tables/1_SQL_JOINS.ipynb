{
 "cells": [
  {
   "cell_type": "markdown",
   "id": "67e5fccb",
   "metadata": {},
   "source": [
    "## MySQL JOINS\n",
    "\n",
    "**Author: Abhishek Dey**\n",
    "\n",
    "**Last Modified : July 6, 2024**"
   ]
  },
  {
   "cell_type": "markdown",
   "id": "4729827d",
   "metadata": {},
   "source": [
    "## SQL JOINS - BY EXAMPLE QUERIES"
   ]
  },
  {
   "cell_type": "markdown",
   "id": "aafe9ea6",
   "metadata": {},
   "source": [
    "![sql_join_queries](images/sql_join_by_queries.png)"
   ]
  },
  {
   "cell_type": "code",
   "execution_count": null,
   "id": "77be5a11",
   "metadata": {},
   "outputs": [],
   "source": []
  }
 ],
 "metadata": {
  "kernelspec": {
   "display_name": "Python 3 (ipykernel)",
   "language": "python",
   "name": "python3"
  },
  "language_info": {
   "codemirror_mode": {
    "name": "ipython",
    "version": 3
   },
   "file_extension": ".py",
   "mimetype": "text/x-python",
   "name": "python",
   "nbconvert_exporter": "python",
   "pygments_lexer": "ipython3",
   "version": "3.10.12"
  }
 },
 "nbformat": 4,
 "nbformat_minor": 5
}
